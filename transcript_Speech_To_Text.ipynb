{
 "cells": [
  {
   "cell_type": "markdown",
   "metadata": {},
   "source": [
    "# Speech to Text module"
   ]
  },
  {
   "cell_type": "markdown",
   "metadata": {},
   "source": [
    "This section obtains all the audio files"
   ]
  },
  {
   "cell_type": "code",
   "execution_count": 20,
   "metadata": {},
   "outputs": [],
   "source": [
    "import os\n",
    "import soundfile\n",
    "import wave\n",
    "import pandas as pd\n",
    "from google.cloud import speech_v1p1beta1 as speech"
   ]
  },
  {
   "cell_type": "markdown",
   "metadata": {},
   "source": [
    "Cut the audio, keeping the first minute "
   ]
  },
  {
   "cell_type": "code",
   "execution_count": 9,
   "metadata": {},
   "outputs": [
    {
     "name": "stdout",
     "output_type": "stream",
     "text": [
      "Cutting I_29693[1].wavto 1 minute of duration\n",
      "Cutting I_29711[1].wavto 1 minute of duration\n",
      "Cutting I_29806[1].wavto 1 minute of duration\n",
      "Cutting I_29836[1].wavto 1 minute of duration\n"
     ]
    }
   ],
   "source": [
    "path = 'audioSales2/'\n",
    "for file in os.listdir(path):\n",
    "    if(file.endswith('.wav')):\n",
    "        nameSolo = file.rsplit('.', 1)[0]\n",
    "        ifile = wave.open(path + file)\n",
    "        framesIn10Seconds = ifile.getframerate()*59\n",
    "        if framesIn10Seconds > ifile.getnframes():\n",
    "            framesIn10Seconds = ifile.getnframes()        \n",
    "        \n",
    "        ofile = wave.open(path + '/1_min/' + nameSolo + '_1Min.wav', \"w\") \n",
    "        ofile.setparams(ifile.getparams())\n",
    "        ofile.setnframes(framesIn10Seconds)\n",
    "        ofile.writeframes(ifile.readframes(framesIn10Seconds))\n",
    "        print(\"Cutting \" + file + \"to 1 minute of duration\")        \n",
    "        ifile.close()\n",
    "        ofile.close()"
   ]
  },
  {
   "cell_type": "markdown",
   "metadata": {},
   "source": [
    "Converting the audio from 8 to 16 bits"
   ]
  },
  {
   "cell_type": "code",
   "execution_count": 10,
   "metadata": {},
   "outputs": [
    {
     "name": "stdout",
     "output_type": "stream",
     "text": [
      "audioSales2/1_min/I_29693[1]_1Min\n",
      "converting I_29693[1]_1Min.wavto 16 - bit\n",
      "audioSales2/1_min/I_29711[1]_1Min\n",
      "converting I_29711[1]_1Min.wavto 16 - bit\n",
      "audioSales2/1_min/I_29806[1]_1Min\n",
      "converting I_29806[1]_1Min.wavto 16 - bit\n",
      "audioSales2/1_min/I_29836[1]_1Min\n",
      "converting I_29836[1]_1Min.wavto 16 - bit\n"
     ]
    }
   ],
   "source": [
    "path = 'audioSales2/1_min/'\n",
    "for file in os.listdir(path):\n",
    "    if(file.endswith('.wav')):\n",
    "        nameSolo = file.rsplit('.', 1)[0]\n",
    "        print(path + nameSolo )\n",
    "        data, samplerate = soundfile.read(path + file)                \n",
    "\n",
    "        soundfile.write(path + '16_bits/' + nameSolo + '_16BIT.wav', data, samplerate, subtype='PCM_16')\n",
    "        print(\"converting \" + file + \"to 16 - bit\")\n",
    "   "
   ]
  },
  {
   "cell_type": "markdown",
   "metadata": {},
   "source": [
    "Generating a dataframe with the transcription"
   ]
  },
  {
   "cell_type": "code",
   "execution_count": 33,
   "metadata": {
    "scrolled": true
   },
   "outputs": [
    {
     "name": "stdout",
     "output_type": "stream",
     "text": [
      "audioSales2/1_min/16_bits/I_29693[1]_1Min_16BIT\n",
      "Waiting for operation to complete...\n",
      "Transcription of the audio file:audioSales2/1_min/16_bits/I_29693[1]_1Min_16BIT.wav\n",
      "audioSales2/1_min/16_bits/I_29711[1]_1Min_16BIT\n",
      "Waiting for operation to complete...\n",
      "Transcription of the audio file:audioSales2/1_min/16_bits/I_29711[1]_1Min_16BIT.wav\n",
      "audioSales2/1_min/16_bits/I_29806[1]_1Min_16BIT\n",
      "Waiting for operation to complete...\n",
      "Transcription of the audio file:audioSales2/1_min/16_bits/I_29806[1]_1Min_16BIT.wav\n",
      "audioSales2/1_min/16_bits/I_29836[1]_1Min_16BIT\n",
      "Waiting for operation to complete...\n",
      "Transcription of the audio file:audioSales2/1_min/16_bits/I_29836[1]_1Min_16BIT.wav\n"
     ]
    },
    {
     "data": {
      "text/html": [
       "<div>\n",
       "<style scoped>\n",
       "    .dataframe tbody tr th:only-of-type {\n",
       "        vertical-align: middle;\n",
       "    }\n",
       "\n",
       "    .dataframe tbody tr th {\n",
       "        vertical-align: top;\n",
       "    }\n",
       "\n",
       "    .dataframe thead th {\n",
       "        text-align: right;\n",
       "    }\n",
       "</style>\n",
       "<table border=\"1\" class=\"dataframe\">\n",
       "  <thead>\n",
       "    <tr style=\"text-align: right;\">\n",
       "      <th></th>\n",
       "      <th>0</th>\n",
       "    </tr>\n",
       "  </thead>\n",
       "  <tbody>\n",
       "    <tr>\n",
       "      <th>audioSales2/1_min/16_bits/I_29693[1]_1Min_16BIT.wav</th>\n",
       "      <td>Hola qué tal Muy buenos días Gracias por llam...</td>\n",
       "    </tr>\n",
       "    <tr>\n",
       "      <th>audioSales2/1_min/16_bits/I_29711[1]_1Min_16BIT.wav</th>\n",
       "      <td>Hola qué tal Muy buenos días Gracias por comu...</td>\n",
       "    </tr>\n",
       "    <tr>\n",
       "      <th>audioSales2/1_min/16_bits/I_29806[1]_1Min_16BIT.wav</th>\n",
       "      <td>Hola que tal Buenos días bienvenida mejorcomp...</td>\n",
       "    </tr>\n",
       "    <tr>\n",
       "      <th>audioSales2/1_min/16_bits/I_29836[1]_1Min_16BIT.wav</th>\n",
       "      <td>Hola buenos días Gracias por comunicarse a nu...</td>\n",
       "    </tr>\n",
       "  </tbody>\n",
       "</table>\n",
       "</div>"
      ],
      "text/plain": [
       "                                                                                                    0\n",
       "audioSales2/1_min/16_bits/I_29693[1]_1Min_16BIT...   Hola qué tal Muy buenos días Gracias por llam...\n",
       "audioSales2/1_min/16_bits/I_29711[1]_1Min_16BIT...   Hola qué tal Muy buenos días Gracias por comu...\n",
       "audioSales2/1_min/16_bits/I_29806[1]_1Min_16BIT...   Hola que tal Buenos días bienvenida mejorcomp...\n",
       "audioSales2/1_min/16_bits/I_29836[1]_1Min_16BIT...   Hola buenos días Gracias por comunicarse a nu..."
      ]
     },
     "execution_count": 33,
     "metadata": {},
     "output_type": "execute_result"
    }
   ],
   "source": [
    "path = 'audioSales2/1_min/16_bits/'  \n",
    "client = speech.SpeechClient()\n",
    "wholeConversation = ''\n",
    "audioColumn = []\n",
    "audioData = []\n",
    "for file in os.listdir(path):\n",
    "    if(file.endswith('.wav')):\n",
    "        nameSolo = file.rsplit('.', 1)[0]\n",
    "        print(path + nameSolo )\n",
    "        with open(path + file, 'rb') as audio_file:\n",
    "                content = audio_file.read()\n",
    "\n",
    "        audio = speech.types.RecognitionAudio(content=content)\n",
    "\n",
    "        config = speech.types.RecognitionConfig(\n",
    "            encoding=speech.enums.RecognitionConfig.AudioEncoding.LINEAR16,\n",
    "            sample_rate_hertz=8000,\n",
    "            language_code='es-MX',\n",
    "            enable_speaker_diarization=True)\n",
    "\n",
    "        print('Waiting for operation to complete...')\n",
    "        response = client.recognize(config, audio)\n",
    "\n",
    "        # The transcript within each result is separate and sequential per result.\n",
    "        # However, the words list within an alternative includes all the words\n",
    "        # from all the results thus far. Thus, to get all the words with speaker\n",
    "        # tags, you only have to take the words list from the last result:\n",
    "        result = response.results[-1]\n",
    "\n",
    "        words_info = result.alternatives[0].words \n",
    "        # Printing out the output:\n",
    "        print(f'Transcription of the audio file:{path + file}')\n",
    "        for word_info in words_info:\n",
    "            wholeConversation = wholeConversation + ' ' + word_info.word  \n",
    "        audioColumn.append(path +  file)\n",
    "        audioData.append(wholeConversation)\n",
    "        wholeConversation = '' \n",
    "audioDF = pd.DataFrame(audioData, audioColumn)\n",
    "audioDF    "
   ]
  },
  {
   "cell_type": "code",
   "execution_count": 41,
   "metadata": {},
   "outputs": [
    {
     "data": {
      "text/plain": [
       "' Hola buenos días Gracias por comunicarse a nuestra Mejor compra TV la tiene Paola Cervantes con quien tengo el gusto mucho gusto señores el verdad Estela mucho gusto señores tela se comunica directamente a la línea de los sartenes flavor Stone es correcto pero que sí señor le stelle entonces Coméntame Cómo es la promoción que está observando en este momento de los sartenes flavor Stone exactamente señores está cargando su promoción especial en la cual acabé de entrar su llamada mientras se termina de cargar esta promoción comenté mi señora Estela qué fue lo que más le agradó o le gustó de eso sartenes'"
      ]
     },
     "execution_count": 41,
     "metadata": {},
     "output_type": "execute_result"
    }
   ],
   "source": [
    "audioDF[0][3]"
   ]
  }
 ],
 "metadata": {
  "kernelspec": {
   "display_name": "Python 3",
   "language": "python",
   "name": "python3"
  },
  "language_info": {
   "codemirror_mode": {
    "name": "ipython",
    "version": 3
   },
   "file_extension": ".py",
   "mimetype": "text/x-python",
   "name": "python",
   "nbconvert_exporter": "python",
   "pygments_lexer": "ipython3",
   "version": "3.7.0"
  }
 },
 "nbformat": 4,
 "nbformat_minor": 2
}
