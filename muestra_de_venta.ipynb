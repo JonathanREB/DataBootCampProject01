{
 "cells": [
  {
   "cell_type": "code",
   "execution_count": null,
   "metadata": {
    "scrolled": false
   },
   "outputs": [],
   "source": [
    "#dependencies\n",
    "import csv\n",
    "import pandas as pd\n",
    "import numpy as np\n",
    "\n",
    "# File to Load \n",
    "df1= pd.read_csv(\"timeofday (1).csv\", encoding = \"ISO-8859-1\", skiprows=4)\n",
    "df1.head()\n",
    "df2= pd.read_csv(\"timeofday (2).csv\", encoding = \"ISO-8859-1\", skiprows=4)\n",
    "df3= pd.read_csv(\"timeofday (3).csv\", encoding = \"ISO-8859-1\", skiprows=4)\n",
    "df4= pd.read_csv(\"timeofday (4).csv\", encoding = \"ISO-8859-1\", skiprows=4)\n",
    "\n",
    "#merge 4 csv files into one file \n",
    "muestra_de_venta_df=df1.append(df2).append(df3).append(df4)\n",
    "muestra_de_venta_df.head()\n"
   ]
  },
  {
   "cell_type": "code",
   "execution_count": null,
   "metadata": {},
   "outputs": [],
   "source": [
    "#put all the data into a data frame \n",
    "df_cleaned =muestra_de_venta_df[[\"Order Date\",\"Cust No\", \"Postcode\", \"Agent\", \"Order ref\", \"Order Source\",\n",
    "                                                              \"Disc Code\", \"Status\", \"Payment\", \"Item\", \"Description\", \"Qty\", \"Value net\", \n",
    "                                                              \"P&P net\", \"Invoice Fee\", \"Total net\", \"Item Type\", \"Ship Date\", \"State\", \n",
    "                                                              \"Delivery Date\", \"Carrier\", \"Tracking No\"]]\n",
    "df_cleaned.head()"
   ]
  },
  {
   "cell_type": "code",
   "execution_count": null,
   "metadata": {},
   "outputs": [],
   "source": [
    "#solo sacar DRTV de order source (opcion)\n",
    "df_onlyDRTV= df_cleaned.loc[df_cleaned[\"Order Source\"] == \"Drtv\"]\n",
    "df_onlyDRTV.head()"
   ]
  },
  {
   "cell_type": "code",
   "execution_count": null,
   "metadata": {},
   "outputs": [],
   "source": [
    "#order by order reference \n",
    "df_orderref=df_onlyDRTV.groupby([\"Order ref\"]).agg({\"Cust No\":\"first\", \"Postcode\":\"first\", \"Total net\":\"sum\"}).reset_index()\n",
    "df_orderref.head()"
   ]
  },
  {
   "cell_type": "code",
   "execution_count": null,
   "metadata": {},
   "outputs": [],
   "source": []
  }
 ],
 "metadata": {
  "kernelspec": {
   "display_name": "Python 3",
   "language": "python",
   "name": "python3"
  },
  "language_info": {
   "codemirror_mode": {
    "name": "ipython",
    "version": 3
   },
   "file_extension": ".py",
   "mimetype": "text/x-python",
   "name": "python",
   "nbconvert_exporter": "python",
   "pygments_lexer": "ipython3",
   "version": "3.6.4"
  }
 },
 "nbformat": 4,
 "nbformat_minor": 2
}
